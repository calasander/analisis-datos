{
 "cells": [
  {
   "cell_type": "code",
   "execution_count": 1,
   "metadata": {},
   "outputs": [],
   "source": [
    "import os\n",
    "import pandas as pd\n",
    "import numpy as np\n",
    "import datetime"
   ]
  },
  {
   "cell_type": "code",
   "execution_count": 2,
   "metadata": {},
   "outputs": [
    {
     "data": {
      "text/plain": [
       "(17721, 54)"
      ]
     },
     "execution_count": 2,
     "metadata": {},
     "output_type": "execute_result"
    }
   ],
   "source": [
    "\n",
    "# Ruta del archivo Excel\n",
    "ruta_excel = r\"C:\\Users\\hvargas\\OneDrive - Corporación Universitaria Remington UNIREMINGTON\\Documents\\Python Scripts\\matriculados_04_06_2025.xlsx\"\n",
    "\n",
    "# Cargar la hoja específica del archivo Excel\n",
    "df = pd.read_excel(ruta_excel, sheet_name='Sheet1')\n",
    "\n",
    "\n",
    "\n",
    "#df=pd.read_excel(\"matriculados_05_05_2025.xlsx\" , sheet_name='Sheet1')\n",
    "df.shape\n"
   ]
  },
  {
   "cell_type": "code",
   "execution_count": 3,
   "metadata": {},
   "outputs": [],
   "source": [
    "campos_eliminar = ['Dirección Residencia',  'Celular', 'Teléfono', 'Email Personal', 'Email Institucional',  'Cod. Plan',  'Fecha Inicio', 'Duración Semanas',  'Tipo de Nivel', 'Código Materia', 'Días horario', 'Grupo', 'Hra Inicio', 'Hra Fin']\n",
    "df.drop(campos_eliminar, axis=1, inplace=True)\n",
    "#df = df.drop(columns=['Dirección Residencia', 'Celular', 'Teléfono', 'Email Personal', 'Email Institucional', 'Cod. Plan', 'Estado Adm.', 'Fecha Inicio', 'Duración Semanas', 'Tipo de Nivel', 'Código Materia', 'Días horario', 'Grupo', 'Hra Inicio', 'Hra Fin'])\n",
    "\n",
    "data=df#data"
   ]
  },
  {
   "cell_type": "code",
   "execution_count": 4,
   "metadata": {},
   "outputs": [
    {
     "data": {
      "text/plain": [
       "(17721, 40)"
      ]
     },
     "execution_count": 4,
     "metadata": {},
     "output_type": "execute_result"
    }
   ],
   "source": [
    "data.shape\n",
    "#data.dtypes\n",
    "#data.describe()"
   ]
  },
  {
   "cell_type": "code",
   "execution_count": 5,
   "metadata": {},
   "outputs": [
    {
     "data": {
      "application/vnd.microsoft.datawrangler.viewer.v0+json": {
       "columns": [
        {
         "name": "index",
         "rawType": "int64",
         "type": "integer"
        },
        {
         "name": "Fecha Nac.",
         "rawType": "datetime64[ns]",
         "type": "datetime"
        }
       ],
       "ref": "d81e149f-b372-483c-a05b-2a39fd6d803b",
       "rows": [
        [
         "17010",
         "1900-01-01 00:00:00"
        ]
       ],
       "shape": {
        "columns": 1,
        "rows": 1
       }
      },
      "text/plain": [
       "17010   1900-01-01\n",
       "Name: Fecha Nac., dtype: datetime64[ns]"
      ]
     },
     "execution_count": 5,
     "metadata": {},
     "output_type": "execute_result"
    }
   ],
   "source": [
    "# Identificar registros donde \"Fecha Nac.\" es interpretado como hora (ej. 00:00) en el dataframe 'data'\n",
    "mask_time_values_data = data['Fecha Nac.'].apply(lambda x: isinstance(x, datetime.time))\n",
    "\n",
    "# Reemplazar estos valores con '01/01/1900'\n",
    "data.loc[mask_time_values_data, 'Fecha Nac.'] = '1900-01-01'\n",
    "\n",
    "# Convertir la columna \"Fecha Nac.\" a formato de fecha\n",
    "data['Fecha Nac.'] = pd.to_datetime(data['Fecha Nac.'], errors='coerce', format='%Y-%m-%d')\n",
    "\n",
    "# Verificar el cambio en los registros previamente identificados como problemáticos\n",
    "data.loc[mask_time_values_data, 'Fecha Nac.']\n"
   ]
  },
  {
   "cell_type": "code",
   "execution_count": 6,
   "metadata": {},
   "outputs": [
    {
     "data": {
      "text/plain": [
       "(17721, 40)"
      ]
     },
     "execution_count": 6,
     "metadata": {},
     "output_type": "execute_result"
    }
   ],
   "source": [
    "today = datetime.date.today()\n",
    "\n",
    "## Suponiendo que la columna con las fechas de nacimiento se llama 'Fecha Nac.\n",
    "data['Fecha Nac.'] = pd.to_datetime(data['Fecha Nac.'], format='%d/%m/%Y')\n",
    "data.shape"
   ]
  },
  {
   "cell_type": "code",
   "execution_count": 7,
   "metadata": {},
   "outputs": [
    {
     "data": {
      "text/plain": [
       "(17721, 41)"
      ]
     },
     "execution_count": 7,
     "metadata": {},
     "output_type": "execute_result"
    }
   ],
   "source": [
    "## Calcular la edad en años\n",
    "hoy = pd.Timestamp.now()\n",
    "data['Edad'] = (hoy - data['Fecha Nac.']).astype('<m8[Y]')\n",
    "data.shape"
   ]
  },
  {
   "cell_type": "code",
   "execution_count": 8,
   "metadata": {},
   "outputs": [
    {
     "data": {
      "application/vnd.microsoft.datawrangler.viewer.v0+json": {
       "columns": [
        {
         "name": "index",
         "rawType": "int64",
         "type": "integer"
        },
        {
         "name": "llave",
         "rawType": "object",
         "type": "string"
        },
        {
         "name": "CIF",
         "rawType": "object",
         "type": "string"
        },
        {
         "name": "Nombre",
         "rawType": "object",
         "type": "string"
        },
        {
         "name": "Apellidos",
         "rawType": "object",
         "type": "string"
        },
        {
         "name": "Depto Residencia",
         "rawType": "object",
         "type": "string"
        },
        {
         "name": "Municipio Residencia",
         "rawType": "object",
         "type": "string"
        },
        {
         "name": "Estado Civil",
         "rawType": "object",
         "type": "string"
        },
        {
         "name": "Estrato",
         "rawType": "object",
         "type": "string"
        },
        {
         "name": "Fecha Nac.",
         "rawType": "datetime64[ns]",
         "type": "datetime"
        },
        {
         "name": "Género",
         "rawType": "object",
         "type": "string"
        },
        {
         "name": "Cód. Programa",
         "rawType": "object",
         "type": "string"
        },
        {
         "name": "Programa",
         "rawType": "object",
         "type": "string"
        },
        {
         "name": "Estado Adm.",
         "rawType": "object",
         "type": "string"
        },
        {
         "name": "Cód. Facultad",
         "rawType": "int64",
         "type": "integer"
        },
        {
         "name": "Facultad",
         "rawType": "object",
         "type": "string"
        },
        {
         "name": "Cód. Sucursal",
         "rawType": "object",
         "type": "string"
        },
        {
         "name": "Sucursal",
         "rawType": "object",
         "type": "string"
        },
        {
         "name": "Modalidad",
         "rawType": "object",
         "type": "string"
        },
        {
         "name": "Tipo de Distancia",
         "rawType": "object",
         "type": "string"
        },
        {
         "name": "Materia",
         "rawType": "object",
         "type": "string"
        },
        {
         "name": "Matricula",
         "rawType": "object",
         "type": "string"
        },
        {
         "name": "Semestre",
         "rawType": "object",
         "type": "string"
        },
        {
         "name": "Tipo Estudiante",
         "rawType": "object",
         "type": "string"
        },
        {
         "name": "Codigo Sucursal Oferta",
         "rawType": "object",
         "type": "string"
        },
        {
         "name": "Sucursal Oferta",
         "rawType": "object",
         "type": "string"
        },
        {
         "name": "Ciclos_virtuales",
         "rawType": "object",
         "type": "string"
        },
        {
         "name": "Modalidad Oferta",
         "rawType": "object",
         "type": "string"
        },
        {
         "name": "Nivel Oferta ",
         "rawType": "object",
         "type": "string"
        },
        {
         "name": "Curso Oferta",
         "rawType": "object",
         "type": "string"
        },
        {
         "name": "x",
         "rawType": "object",
         "type": "string"
        },
        {
         "name": "o",
         "rawType": "int64",
         "type": "integer"
        },
        {
         "name": "Id Oferta",
         "rawType": "int64",
         "type": "integer"
        },
        {
         "name": "Semestre.1",
         "rawType": "float64",
         "type": "float"
        },
        {
         "name": "fecha_proceso",
         "rawType": "object",
         "type": "string"
        },
        {
         "name": "contingencia",
         "rawType": "object",
         "type": "string"
        },
        {
         "name": "Modalidad_real",
         "rawType": "object",
         "type": "string"
        },
        {
         "name": "estado",
         "rawType": "object",
         "type": "string"
        },
        {
         "name": "estado2",
         "rawType": "object",
         "type": "string"
        },
        {
         "name": "estado3",
         "rawType": "float64",
         "type": "float"
        },
        {
         "name": "plan_movilidad",
         "rawType": "object",
         "type": "string"
        },
        {
         "name": "Edad",
         "rawType": "float64",
         "type": "float"
        }
       ],
       "ref": "da4ba26e-2eed-4652-98a7-21583428056a",
       "rows": [
        [
         "0",
         "078117653INGENIERÍA DE SISTEMAS",
         "78117653",
         "LUIS ALEJANDRO",
         "PETIT COLINA",
         "ATLÁNTICO",
         "BARRANQUILLA",
         "OTRO",
         "Estrato 3                                                                  ",
         "2002-08-14 00:00:00",
         "M",
         "PR-4-0001",
         "INGENIERÍA DE SISTEMAS",
         "Nuevo",
         "4",
         "FACULTAD DE INGENIERÍAS",
         "B08",
         "CALI",
         "Distancia",
         "No propia en la sede",
         "LINEA DE ENFASIS",
         "Pagado",
         "1 -2025",
         "REGULAR",
         "B08",
         "CALI",
         "Semestral",
         "Distancia",
         "PR-4-0001",
         "IF9753",
         "078117653INGENIERÍA DE SISTEMASD20152",
         "0",
         "321565",
         "9.0",
         "04/06/2025",
         "NO",
         "Distancia",
         null,
         "LUIS ALEJANDRO",
         null,
         null,
         "22.0"
        ],
        [
         "1",
         "1000018461ESPECIALIZACIÓN EN MEDICINA DEPORTIVA EQUINA",
         "1000018461",
         "MARÍA CAMILA",
         "RAMÍREZ RIVERA",
         "BOGOTA D.C.",
         "BOGOTA",
         "SOLTERO",
         "Estrato 3                                                                  ",
         "2001-02-16 00:00:00",
         "F",
         "ES-5-0008",
         "ESPECIALIZACIÓN EN MEDICINA DEPORTIVA EQUINA",
         "Nuevo",
         "5",
         "FACULTAD DE MEDICINA VETERINARIA",
         "B16",
         "RIONEGRO",
         "Combinada",
         "Propia",
         "FUNDAMENTOS DE LA MEDICINA DEPORTIVA",
         "Pagado",
         "1 -2025",
         "NUEVO",
         "B16",
         "RIONEGRO",
         "Semestral",
         null,
         "ES-5-0008",
         "MV0004",
         "1000018461ESPECIALIZACIÓN EN MEDICINA DEPORTIVA EQUINAP20241",
         "0",
         "321671",
         "1.0",
         "04/06/2025",
         "NO",
         "Combinada",
         null,
         null,
         null,
         null,
         "24.0"
        ],
        [
         "2",
         "1000019056INGENIERÍA DE SISTEMAS",
         "1000019056",
         "JUAN FELIPE",
         "RODRIGUEZ ZAMUDIO",
         "BOGOTA D.C.",
         "BOGOTA",
         "SOLTERO",
         "Estrato 3                                                                  ",
         "2002-02-09 00:00:00",
         "M",
         "PR-4-0001",
         "INGENIERÍA DE SISTEMAS",
         "Transferencia interna",
         "4",
         "FACULTAD DE INGENIERÍAS",
         "B04",
         "VIRTUALIDAD",
         "Virtual                                                                    ",
         "Propia",
         "TEORÍA GENERAL DE SISTEMAS",
         "Pagado",
         "1 -2025",
         "NUEVO",
         "B04",
         "VIRTUALIDAD",
         "Semestral",
         "Virtual",
         "PR-4-0001",
         "IF0200",
         "1000019056INGENIERÍA DE SISTEMASV20232",
         "0",
         "310268",
         "5.0",
         "04/06/2025",
         "NO",
         "Virtual",
         null,
         "JUAN FELIPE",
         null,
         null,
         "23.0"
        ],
        [
         "3",
         "1000020621MEDICINA VETERINARIA",
         "1000020621",
         "ALIXON NICOL",
         "PEÑUELA GARCIA",
         "TOLIMA",
         "IBAGUE",
         "SOLTERO",
         "Estrato 2                                                                  ",
         "2002-11-04 00:00:00",
         "F",
         "PR-5-0003",
         "MEDICINA VETERINARIA",
         "Nuevo",
         "5",
         "FACULTAD DE MEDICINA VETERINARIA",
         "B10",
         "IBAGUÉ",
         "Presencial",
         "Propia",
         "MEDICINA INTERNA DE PEQUEÑAS ESPECIES",
         "Pagado",
         "1 -2025",
         "REGULAR",
         "B10",
         "IBAGUÉ",
         "Semestral",
         "Presencial",
         "PR-5-0003",
         "MV0078",
         "1000020621MEDICINA VETERINARIAP2020IBA",
         "0",
         "319117",
         "7.0",
         "04/06/2025",
         "NO",
         "Presencial",
         null,
         "ALIXON NICOL",
         null,
         null,
         "22.0"
        ],
        [
         "4",
         "1000034769NUTRICIÓN Y DIETÉTICA",
         "1000034769",
         "LAURA MARIANA",
         "FONSECA  MORENO",
         "ANTIOQUIA",
         "MEDELLIN",
         "SOLTERO",
         "Estrato 3                                                                  ",
         "2002-02-25 00:00:00",
         "F",
         "PR-6-0007",
         "NUTRICIÓN Y DIETÉTICA",
         "Nuevo",
         "6",
         "FACULTAD DE CIENCIAS DE LA SALUD",
         "A01",
         "MEDELLÍN",
         "Presencial",
         "Propia",
         "EVALUACIÓN Y ATENCIÓN NUTRICIONAL FAMILIAR ADULTO Y ADULTO MAYOR",
         "Pagado",
         "1 -2025",
         "REGULAR",
         "A01",
         "MEDELLÍN",
         "Semestral",
         "Presencial",
         "PR-6-0007",
         "CS0428",
         "1000034769NUTRICIÓN Y DIETÉTICAP20181",
         "0",
         "319022",
         "6.0",
         "04/06/2025",
         "NO",
         "Presencial",
         null,
         "LAURA MARIANA",
         null,
         null,
         "23.0"
        ]
       ],
       "shape": {
        "columns": 41,
        "rows": 5
       }
      },
      "text/html": [
       "<div>\n",
       "<style scoped>\n",
       "    .dataframe tbody tr th:only-of-type {\n",
       "        vertical-align: middle;\n",
       "    }\n",
       "\n",
       "    .dataframe tbody tr th {\n",
       "        vertical-align: top;\n",
       "    }\n",
       "\n",
       "    .dataframe thead th {\n",
       "        text-align: right;\n",
       "    }\n",
       "</style>\n",
       "<table border=\"1\" class=\"dataframe\">\n",
       "  <thead>\n",
       "    <tr style=\"text-align: right;\">\n",
       "      <th></th>\n",
       "      <th>llave</th>\n",
       "      <th>CIF</th>\n",
       "      <th>Nombre</th>\n",
       "      <th>Apellidos</th>\n",
       "      <th>Depto Residencia</th>\n",
       "      <th>Municipio Residencia</th>\n",
       "      <th>Estado Civil</th>\n",
       "      <th>Estrato</th>\n",
       "      <th>Fecha Nac.</th>\n",
       "      <th>Género</th>\n",
       "      <th>...</th>\n",
       "      <th>Id Oferta</th>\n",
       "      <th>Semestre.1</th>\n",
       "      <th>fecha_proceso</th>\n",
       "      <th>contingencia</th>\n",
       "      <th>Modalidad_real</th>\n",
       "      <th>estado</th>\n",
       "      <th>estado2</th>\n",
       "      <th>estado3</th>\n",
       "      <th>plan_movilidad</th>\n",
       "      <th>Edad</th>\n",
       "    </tr>\n",
       "  </thead>\n",
       "  <tbody>\n",
       "    <tr>\n",
       "      <th>0</th>\n",
       "      <td>078117653INGENIERÍA DE SISTEMAS</td>\n",
       "      <td>78117653</td>\n",
       "      <td>LUIS ALEJANDRO</td>\n",
       "      <td>PETIT COLINA</td>\n",
       "      <td>ATLÁNTICO</td>\n",
       "      <td>BARRANQUILLA</td>\n",
       "      <td>OTRO</td>\n",
       "      <td>Estrato 3                                     ...</td>\n",
       "      <td>2002-08-14</td>\n",
       "      <td>M</td>\n",
       "      <td>...</td>\n",
       "      <td>321565</td>\n",
       "      <td>9.0</td>\n",
       "      <td>04/06/2025</td>\n",
       "      <td>NO</td>\n",
       "      <td>Distancia</td>\n",
       "      <td>NaN</td>\n",
       "      <td>LUIS ALEJANDRO</td>\n",
       "      <td>NaN</td>\n",
       "      <td>NaN</td>\n",
       "      <td>22.0</td>\n",
       "    </tr>\n",
       "    <tr>\n",
       "      <th>1</th>\n",
       "      <td>1000018461ESPECIALIZACIÓN EN MEDICINA DEPORTIV...</td>\n",
       "      <td>1000018461</td>\n",
       "      <td>MARÍA CAMILA</td>\n",
       "      <td>RAMÍREZ RIVERA</td>\n",
       "      <td>BOGOTA D.C.</td>\n",
       "      <td>BOGOTA</td>\n",
       "      <td>SOLTERO</td>\n",
       "      <td>Estrato 3                                     ...</td>\n",
       "      <td>2001-02-16</td>\n",
       "      <td>F</td>\n",
       "      <td>...</td>\n",
       "      <td>321671</td>\n",
       "      <td>1.0</td>\n",
       "      <td>04/06/2025</td>\n",
       "      <td>NO</td>\n",
       "      <td>Combinada</td>\n",
       "      <td>NaN</td>\n",
       "      <td>NaN</td>\n",
       "      <td>NaN</td>\n",
       "      <td>NaN</td>\n",
       "      <td>24.0</td>\n",
       "    </tr>\n",
       "    <tr>\n",
       "      <th>2</th>\n",
       "      <td>1000019056INGENIERÍA DE SISTEMAS</td>\n",
       "      <td>1000019056</td>\n",
       "      <td>JUAN FELIPE</td>\n",
       "      <td>RODRIGUEZ ZAMUDIO</td>\n",
       "      <td>BOGOTA D.C.</td>\n",
       "      <td>BOGOTA</td>\n",
       "      <td>SOLTERO</td>\n",
       "      <td>Estrato 3                                     ...</td>\n",
       "      <td>2002-02-09</td>\n",
       "      <td>M</td>\n",
       "      <td>...</td>\n",
       "      <td>310268</td>\n",
       "      <td>5.0</td>\n",
       "      <td>04/06/2025</td>\n",
       "      <td>NO</td>\n",
       "      <td>Virtual</td>\n",
       "      <td>NaN</td>\n",
       "      <td>JUAN FELIPE</td>\n",
       "      <td>NaN</td>\n",
       "      <td>NaN</td>\n",
       "      <td>23.0</td>\n",
       "    </tr>\n",
       "    <tr>\n",
       "      <th>3</th>\n",
       "      <td>1000020621MEDICINA VETERINARIA</td>\n",
       "      <td>1000020621</td>\n",
       "      <td>ALIXON NICOL</td>\n",
       "      <td>PEÑUELA GARCIA</td>\n",
       "      <td>TOLIMA</td>\n",
       "      <td>IBAGUE</td>\n",
       "      <td>SOLTERO</td>\n",
       "      <td>Estrato 2                                     ...</td>\n",
       "      <td>2002-11-04</td>\n",
       "      <td>F</td>\n",
       "      <td>...</td>\n",
       "      <td>319117</td>\n",
       "      <td>7.0</td>\n",
       "      <td>04/06/2025</td>\n",
       "      <td>NO</td>\n",
       "      <td>Presencial</td>\n",
       "      <td>NaN</td>\n",
       "      <td>ALIXON NICOL</td>\n",
       "      <td>NaN</td>\n",
       "      <td>NaN</td>\n",
       "      <td>22.0</td>\n",
       "    </tr>\n",
       "    <tr>\n",
       "      <th>4</th>\n",
       "      <td>1000034769NUTRICIÓN Y DIETÉTICA</td>\n",
       "      <td>1000034769</td>\n",
       "      <td>LAURA MARIANA</td>\n",
       "      <td>FONSECA  MORENO</td>\n",
       "      <td>ANTIOQUIA</td>\n",
       "      <td>MEDELLIN</td>\n",
       "      <td>SOLTERO</td>\n",
       "      <td>Estrato 3                                     ...</td>\n",
       "      <td>2002-02-25</td>\n",
       "      <td>F</td>\n",
       "      <td>...</td>\n",
       "      <td>319022</td>\n",
       "      <td>6.0</td>\n",
       "      <td>04/06/2025</td>\n",
       "      <td>NO</td>\n",
       "      <td>Presencial</td>\n",
       "      <td>NaN</td>\n",
       "      <td>LAURA MARIANA</td>\n",
       "      <td>NaN</td>\n",
       "      <td>NaN</td>\n",
       "      <td>23.0</td>\n",
       "    </tr>\n",
       "  </tbody>\n",
       "</table>\n",
       "<p>5 rows × 41 columns</p>\n",
       "</div>"
      ],
      "text/plain": [
       "                                               llave         CIF  \\\n",
       "0                    078117653INGENIERÍA DE SISTEMAS    78117653   \n",
       "1  1000018461ESPECIALIZACIÓN EN MEDICINA DEPORTIV...  1000018461   \n",
       "2                   1000019056INGENIERÍA DE SISTEMAS  1000019056   \n",
       "3                     1000020621MEDICINA VETERINARIA  1000020621   \n",
       "4                    1000034769NUTRICIÓN Y DIETÉTICA  1000034769   \n",
       "\n",
       "           Nombre          Apellidos Depto Residencia Municipio Residencia  \\\n",
       "0  LUIS ALEJANDRO       PETIT COLINA        ATLÁNTICO         BARRANQUILLA   \n",
       "1    MARÍA CAMILA     RAMÍREZ RIVERA      BOGOTA D.C.               BOGOTA   \n",
       "2     JUAN FELIPE  RODRIGUEZ ZAMUDIO      BOGOTA D.C.               BOGOTA   \n",
       "3    ALIXON NICOL     PEÑUELA GARCIA           TOLIMA               IBAGUE   \n",
       "4   LAURA MARIANA    FONSECA  MORENO        ANTIOQUIA             MEDELLIN   \n",
       "\n",
       "  Estado Civil                                            Estrato Fecha Nac.  \\\n",
       "0         OTRO  Estrato 3                                     ... 2002-08-14   \n",
       "1      SOLTERO  Estrato 3                                     ... 2001-02-16   \n",
       "2      SOLTERO  Estrato 3                                     ... 2002-02-09   \n",
       "3      SOLTERO  Estrato 2                                     ... 2002-11-04   \n",
       "4      SOLTERO  Estrato 3                                     ... 2002-02-25   \n",
       "\n",
       "  Género  ... Id Oferta Semestre.1 fecha_proceso  contingencia Modalidad_real  \\\n",
       "0      M  ...    321565        9.0    04/06/2025            NO      Distancia   \n",
       "1      F  ...    321671        1.0    04/06/2025            NO      Combinada   \n",
       "2      M  ...    310268        5.0    04/06/2025            NO        Virtual   \n",
       "3      F  ...    319117        7.0    04/06/2025            NO     Presencial   \n",
       "4      F  ...    319022        6.0    04/06/2025            NO     Presencial   \n",
       "\n",
       "  estado         estado2 estado3 plan_movilidad  Edad  \n",
       "0    NaN  LUIS ALEJANDRO     NaN            NaN  22.0  \n",
       "1    NaN             NaN     NaN            NaN  24.0  \n",
       "2    NaN     JUAN FELIPE     NaN            NaN  23.0  \n",
       "3    NaN    ALIXON NICOL     NaN            NaN  22.0  \n",
       "4    NaN   LAURA MARIANA     NaN            NaN  23.0  \n",
       "\n",
       "[5 rows x 41 columns]"
      ]
     },
     "execution_count": 8,
     "metadata": {},
     "output_type": "execute_result"
    }
   ],
   "source": [
    "data.head()"
   ]
  },
  {
   "cell_type": "code",
   "execution_count": 9,
   "metadata": {},
   "outputs": [
    {
     "data": {
      "text/plain": [
       "(17721, 41)"
      ]
     },
     "execution_count": 9,
     "metadata": {},
     "output_type": "execute_result"
    }
   ],
   "source": [
    "#Remplazar el nombre de la etiqueta género\n",
    "data[\"Género\"] = data[\"Género\"].replace({\"M\": \"Masculino\", \"F\": \"Femenino\"})\n",
    "data['Género']\n",
    "data.shape"
   ]
  },
  {
   "cell_type": "code",
   "execution_count": 10,
   "metadata": {},
   "outputs": [
    {
     "data": {
      "text/plain": [
       "(17721, 41)"
      ]
     },
     "execution_count": 10,
     "metadata": {},
     "output_type": "execute_result"
    }
   ],
   "source": [
    "data['Sucursal'] = data['Sucursal'].replace({'MONTERIA.SAH': 'SAHAGÚN', 'MONTERIA.CAU': 'CAUCASIA'})\n",
    "data.shape"
   ]
  },
  {
   "cell_type": "code",
   "execution_count": 11,
   "metadata": {},
   "outputs": [],
   "source": [
    "#separa el codigo de la sede:\n",
    "#data[['Código sede', 'Sede']] = data['Sucursal'].str.split(' ', n=1, expand=True)\n",
    "\n",
    "# Eliminar la columna original \"Ciudad/CAT\"\n",
    "#data.drop(columns=['Sucursal'], inplace=True)\n",
    "\n"
   ]
  },
  {
   "cell_type": "code",
   "execution_count": 12,
   "metadata": {},
   "outputs": [
    {
     "data": {
      "text/plain": [
       "(17721, 41)"
      ]
     },
     "execution_count": 12,
     "metadata": {},
     "output_type": "execute_result"
    }
   ],
   "source": [
    "data.columns\n",
    "data.shape"
   ]
  },
  {
   "cell_type": "code",
   "execution_count": 13,
   "metadata": {},
   "outputs": [
    {
     "data": {
      "application/vnd.microsoft.datawrangler.viewer.v0+json": {
       "columns": [
        {
         "name": "index",
         "rawType": "int64",
         "type": "integer"
        },
        {
         "name": "llave",
         "rawType": "object",
         "type": "string"
        },
        {
         "name": "CIF",
         "rawType": "object",
         "type": "string"
        },
        {
         "name": "Nombre",
         "rawType": "object",
         "type": "string"
        },
        {
         "name": "Apellidos",
         "rawType": "object",
         "type": "string"
        },
        {
         "name": "Depto Residencia",
         "rawType": "object",
         "type": "string"
        },
        {
         "name": "Municipio Residencia",
         "rawType": "object",
         "type": "string"
        },
        {
         "name": "Estado Civil",
         "rawType": "object",
         "type": "string"
        },
        {
         "name": "Estrato",
         "rawType": "object",
         "type": "string"
        },
        {
         "name": "Fecha Nac.",
         "rawType": "datetime64[ns]",
         "type": "datetime"
        },
        {
         "name": "Género",
         "rawType": "object",
         "type": "string"
        },
        {
         "name": "Cód. Programa",
         "rawType": "object",
         "type": "string"
        },
        {
         "name": "Programa",
         "rawType": "object",
         "type": "string"
        },
        {
         "name": "Estado Adm.",
         "rawType": "object",
         "type": "string"
        },
        {
         "name": "Cód. Facultad",
         "rawType": "int64",
         "type": "integer"
        },
        {
         "name": "Facultad",
         "rawType": "object",
         "type": "string"
        },
        {
         "name": "Cód. Sucursal",
         "rawType": "object",
         "type": "string"
        },
        {
         "name": "Sucursal",
         "rawType": "object",
         "type": "string"
        },
        {
         "name": "Modalidad",
         "rawType": "object",
         "type": "string"
        },
        {
         "name": "Tipo de Distancia",
         "rawType": "object",
         "type": "string"
        },
        {
         "name": "Materia",
         "rawType": "object",
         "type": "string"
        },
        {
         "name": "Matricula",
         "rawType": "object",
         "type": "string"
        },
        {
         "name": "Semestre",
         "rawType": "object",
         "type": "string"
        },
        {
         "name": "Tipo Estudiante",
         "rawType": "object",
         "type": "string"
        },
        {
         "name": "Codigo Sucursal Oferta",
         "rawType": "object",
         "type": "string"
        },
        {
         "name": "Sucursal Oferta",
         "rawType": "object",
         "type": "string"
        },
        {
         "name": "Ciclos_virtuales",
         "rawType": "object",
         "type": "string"
        },
        {
         "name": "Modalidad Oferta",
         "rawType": "object",
         "type": "string"
        },
        {
         "name": "Nivel Oferta ",
         "rawType": "object",
         "type": "string"
        },
        {
         "name": "Curso Oferta",
         "rawType": "object",
         "type": "string"
        },
        {
         "name": "x",
         "rawType": "object",
         "type": "string"
        },
        {
         "name": "o",
         "rawType": "int64",
         "type": "integer"
        },
        {
         "name": "Id Oferta",
         "rawType": "int64",
         "type": "integer"
        },
        {
         "name": "Semestre.1",
         "rawType": "float64",
         "type": "float"
        },
        {
         "name": "fecha_proceso",
         "rawType": "object",
         "type": "string"
        },
        {
         "name": "contingencia",
         "rawType": "object",
         "type": "string"
        },
        {
         "name": "Modalidad_real",
         "rawType": "object",
         "type": "string"
        },
        {
         "name": "estado",
         "rawType": "object",
         "type": "string"
        },
        {
         "name": "estado2",
         "rawType": "object",
         "type": "string"
        },
        {
         "name": "estado3",
         "rawType": "float64",
         "type": "float"
        },
        {
         "name": "plan_movilidad",
         "rawType": "object",
         "type": "string"
        },
        {
         "name": "Edad",
         "rawType": "float64",
         "type": "float"
        }
       ],
       "ref": "4feb28fe-a9b2-44f8-a8a7-15d4b0732e23",
       "rows": [
        [
         "0",
         "078117653INGENIERÍA DE SISTEMAS",
         "78117653",
         "LUIS ALEJANDRO",
         "PETIT COLINA",
         "ATLÁNTICO",
         "BARRANQUILLA",
         "OTRO",
         "Estrato 3                                                                  ",
         "2002-08-14 00:00:00",
         "Masculino",
         "PR-4-0001",
         "INGENIERÍA DE SISTEMAS",
         "Nuevo",
         "4",
         "FACULTAD DE INGENIERÍAS",
         "B08",
         "CALI",
         "Distancia",
         "No propia en la sede",
         "LINEA DE ENFASIS",
         "Pagado",
         "1 -2025",
         "REGULAR",
         "B08",
         "CALI",
         "Semestral",
         "Distancia",
         "PR-4-0001",
         "IF9753",
         "078117653INGENIERÍA DE SISTEMASD20152",
         "0",
         "321565",
         "9.0",
         "04/06/2025",
         "NO",
         "Distancia",
         null,
         "LUIS ALEJANDRO",
         null,
         null,
         "22.0"
        ],
        [
         "1",
         "1000018461ESPECIALIZACIÓN EN MEDICINA DEPORTIVA EQUINA",
         "1000018461",
         "MARÍA CAMILA",
         "RAMÍREZ RIVERA",
         "BOGOTA D.C.",
         "BOGOTA",
         "SOLTERO",
         "Estrato 3                                                                  ",
         "2001-02-16 00:00:00",
         "Femenino",
         "ES-5-0008",
         "ESPECIALIZACIÓN EN MEDICINA DEPORTIVA EQUINA",
         "Nuevo",
         "5",
         "FACULTAD DE MEDICINA VETERINARIA",
         "B16",
         "RIONEGRO",
         "Combinada",
         "Propia",
         "FUNDAMENTOS DE LA MEDICINA DEPORTIVA",
         "Pagado",
         "1 -2025",
         "NUEVO",
         "B16",
         "RIONEGRO",
         "Semestral",
         null,
         "ES-5-0008",
         "MV0004",
         "1000018461ESPECIALIZACIÓN EN MEDICINA DEPORTIVA EQUINAP20241",
         "0",
         "321671",
         "1.0",
         "04/06/2025",
         "NO",
         "Combinada",
         null,
         null,
         null,
         null,
         "24.0"
        ],
        [
         "2",
         "1000019056INGENIERÍA DE SISTEMAS",
         "1000019056",
         "JUAN FELIPE",
         "RODRIGUEZ ZAMUDIO",
         "BOGOTA D.C.",
         "BOGOTA",
         "SOLTERO",
         "Estrato 3                                                                  ",
         "2002-02-09 00:00:00",
         "Masculino",
         "PR-4-0001",
         "INGENIERÍA DE SISTEMAS",
         "Transferencia interna",
         "4",
         "FACULTAD DE INGENIERÍAS",
         "B04",
         "VIRTUALIDAD",
         "Virtual                                                                    ",
         "Propia",
         "TEORÍA GENERAL DE SISTEMAS",
         "Pagado",
         "1 -2025",
         "NUEVO",
         "B04",
         "VIRTUALIDAD",
         "Semestral",
         "Virtual",
         "PR-4-0001",
         "IF0200",
         "1000019056INGENIERÍA DE SISTEMASV20232",
         "0",
         "310268",
         "5.0",
         "04/06/2025",
         "NO",
         "Virtual",
         null,
         "JUAN FELIPE",
         null,
         null,
         "23.0"
        ],
        [
         "3",
         "1000020621MEDICINA VETERINARIA",
         "1000020621",
         "ALIXON NICOL",
         "PEÑUELA GARCIA",
         "TOLIMA",
         "IBAGUE",
         "SOLTERO",
         "Estrato 2                                                                  ",
         "2002-11-04 00:00:00",
         "Femenino",
         "PR-5-0003",
         "MEDICINA VETERINARIA",
         "Nuevo",
         "5",
         "FACULTAD DE MEDICINA VETERINARIA",
         "B10",
         "IBAGUÉ",
         "Presencial",
         "Propia",
         "MEDICINA INTERNA DE PEQUEÑAS ESPECIES",
         "Pagado",
         "1 -2025",
         "REGULAR",
         "B10",
         "IBAGUÉ",
         "Semestral",
         "Presencial",
         "PR-5-0003",
         "MV0078",
         "1000020621MEDICINA VETERINARIAP2020IBA",
         "0",
         "319117",
         "7.0",
         "04/06/2025",
         "NO",
         "Presencial",
         null,
         "ALIXON NICOL",
         null,
         null,
         "22.0"
        ],
        [
         "4",
         "1000034769NUTRICIÓN Y DIETÉTICA",
         "1000034769",
         "LAURA MARIANA",
         "FONSECA  MORENO",
         "ANTIOQUIA",
         "MEDELLIN",
         "SOLTERO",
         "Estrato 3                                                                  ",
         "2002-02-25 00:00:00",
         "Femenino",
         "PR-6-0007",
         "NUTRICIÓN Y DIETÉTICA",
         "Nuevo",
         "6",
         "FACULTAD DE CIENCIAS DE LA SALUD",
         "A01",
         "MEDELLÍN",
         "Presencial",
         "Propia",
         "EVALUACIÓN Y ATENCIÓN NUTRICIONAL FAMILIAR ADULTO Y ADULTO MAYOR",
         "Pagado",
         "1 -2025",
         "REGULAR",
         "A01",
         "MEDELLÍN",
         "Semestral",
         "Presencial",
         "PR-6-0007",
         "CS0428",
         "1000034769NUTRICIÓN Y DIETÉTICAP20181",
         "0",
         "319022",
         "6.0",
         "04/06/2025",
         "NO",
         "Presencial",
         null,
         "LAURA MARIANA",
         null,
         null,
         "23.0"
        ]
       ],
       "shape": {
        "columns": 41,
        "rows": 5
       }
      },
      "text/html": [
       "<div>\n",
       "<style scoped>\n",
       "    .dataframe tbody tr th:only-of-type {\n",
       "        vertical-align: middle;\n",
       "    }\n",
       "\n",
       "    .dataframe tbody tr th {\n",
       "        vertical-align: top;\n",
       "    }\n",
       "\n",
       "    .dataframe thead th {\n",
       "        text-align: right;\n",
       "    }\n",
       "</style>\n",
       "<table border=\"1\" class=\"dataframe\">\n",
       "  <thead>\n",
       "    <tr style=\"text-align: right;\">\n",
       "      <th></th>\n",
       "      <th>llave</th>\n",
       "      <th>CIF</th>\n",
       "      <th>Nombre</th>\n",
       "      <th>Apellidos</th>\n",
       "      <th>Depto Residencia</th>\n",
       "      <th>Municipio Residencia</th>\n",
       "      <th>Estado Civil</th>\n",
       "      <th>Estrato</th>\n",
       "      <th>Fecha Nac.</th>\n",
       "      <th>Género</th>\n",
       "      <th>...</th>\n",
       "      <th>Id Oferta</th>\n",
       "      <th>Semestre.1</th>\n",
       "      <th>fecha_proceso</th>\n",
       "      <th>contingencia</th>\n",
       "      <th>Modalidad_real</th>\n",
       "      <th>estado</th>\n",
       "      <th>estado2</th>\n",
       "      <th>estado3</th>\n",
       "      <th>plan_movilidad</th>\n",
       "      <th>Edad</th>\n",
       "    </tr>\n",
       "  </thead>\n",
       "  <tbody>\n",
       "    <tr>\n",
       "      <th>0</th>\n",
       "      <td>078117653INGENIERÍA DE SISTEMAS</td>\n",
       "      <td>78117653</td>\n",
       "      <td>LUIS ALEJANDRO</td>\n",
       "      <td>PETIT COLINA</td>\n",
       "      <td>ATLÁNTICO</td>\n",
       "      <td>BARRANQUILLA</td>\n",
       "      <td>OTRO</td>\n",
       "      <td>Estrato 3                                     ...</td>\n",
       "      <td>2002-08-14</td>\n",
       "      <td>Masculino</td>\n",
       "      <td>...</td>\n",
       "      <td>321565</td>\n",
       "      <td>9.0</td>\n",
       "      <td>04/06/2025</td>\n",
       "      <td>NO</td>\n",
       "      <td>Distancia</td>\n",
       "      <td>NaN</td>\n",
       "      <td>LUIS ALEJANDRO</td>\n",
       "      <td>NaN</td>\n",
       "      <td>NaN</td>\n",
       "      <td>22.0</td>\n",
       "    </tr>\n",
       "    <tr>\n",
       "      <th>1</th>\n",
       "      <td>1000018461ESPECIALIZACIÓN EN MEDICINA DEPORTIV...</td>\n",
       "      <td>1000018461</td>\n",
       "      <td>MARÍA CAMILA</td>\n",
       "      <td>RAMÍREZ RIVERA</td>\n",
       "      <td>BOGOTA D.C.</td>\n",
       "      <td>BOGOTA</td>\n",
       "      <td>SOLTERO</td>\n",
       "      <td>Estrato 3                                     ...</td>\n",
       "      <td>2001-02-16</td>\n",
       "      <td>Femenino</td>\n",
       "      <td>...</td>\n",
       "      <td>321671</td>\n",
       "      <td>1.0</td>\n",
       "      <td>04/06/2025</td>\n",
       "      <td>NO</td>\n",
       "      <td>Combinada</td>\n",
       "      <td>NaN</td>\n",
       "      <td>NaN</td>\n",
       "      <td>NaN</td>\n",
       "      <td>NaN</td>\n",
       "      <td>24.0</td>\n",
       "    </tr>\n",
       "    <tr>\n",
       "      <th>2</th>\n",
       "      <td>1000019056INGENIERÍA DE SISTEMAS</td>\n",
       "      <td>1000019056</td>\n",
       "      <td>JUAN FELIPE</td>\n",
       "      <td>RODRIGUEZ ZAMUDIO</td>\n",
       "      <td>BOGOTA D.C.</td>\n",
       "      <td>BOGOTA</td>\n",
       "      <td>SOLTERO</td>\n",
       "      <td>Estrato 3                                     ...</td>\n",
       "      <td>2002-02-09</td>\n",
       "      <td>Masculino</td>\n",
       "      <td>...</td>\n",
       "      <td>310268</td>\n",
       "      <td>5.0</td>\n",
       "      <td>04/06/2025</td>\n",
       "      <td>NO</td>\n",
       "      <td>Virtual</td>\n",
       "      <td>NaN</td>\n",
       "      <td>JUAN FELIPE</td>\n",
       "      <td>NaN</td>\n",
       "      <td>NaN</td>\n",
       "      <td>23.0</td>\n",
       "    </tr>\n",
       "    <tr>\n",
       "      <th>3</th>\n",
       "      <td>1000020621MEDICINA VETERINARIA</td>\n",
       "      <td>1000020621</td>\n",
       "      <td>ALIXON NICOL</td>\n",
       "      <td>PEÑUELA GARCIA</td>\n",
       "      <td>TOLIMA</td>\n",
       "      <td>IBAGUE</td>\n",
       "      <td>SOLTERO</td>\n",
       "      <td>Estrato 2                                     ...</td>\n",
       "      <td>2002-11-04</td>\n",
       "      <td>Femenino</td>\n",
       "      <td>...</td>\n",
       "      <td>319117</td>\n",
       "      <td>7.0</td>\n",
       "      <td>04/06/2025</td>\n",
       "      <td>NO</td>\n",
       "      <td>Presencial</td>\n",
       "      <td>NaN</td>\n",
       "      <td>ALIXON NICOL</td>\n",
       "      <td>NaN</td>\n",
       "      <td>NaN</td>\n",
       "      <td>22.0</td>\n",
       "    </tr>\n",
       "    <tr>\n",
       "      <th>4</th>\n",
       "      <td>1000034769NUTRICIÓN Y DIETÉTICA</td>\n",
       "      <td>1000034769</td>\n",
       "      <td>LAURA MARIANA</td>\n",
       "      <td>FONSECA  MORENO</td>\n",
       "      <td>ANTIOQUIA</td>\n",
       "      <td>MEDELLIN</td>\n",
       "      <td>SOLTERO</td>\n",
       "      <td>Estrato 3                                     ...</td>\n",
       "      <td>2002-02-25</td>\n",
       "      <td>Femenino</td>\n",
       "      <td>...</td>\n",
       "      <td>319022</td>\n",
       "      <td>6.0</td>\n",
       "      <td>04/06/2025</td>\n",
       "      <td>NO</td>\n",
       "      <td>Presencial</td>\n",
       "      <td>NaN</td>\n",
       "      <td>LAURA MARIANA</td>\n",
       "      <td>NaN</td>\n",
       "      <td>NaN</td>\n",
       "      <td>23.0</td>\n",
       "    </tr>\n",
       "  </tbody>\n",
       "</table>\n",
       "<p>5 rows × 41 columns</p>\n",
       "</div>"
      ],
      "text/plain": [
       "                                               llave         CIF  \\\n",
       "0                    078117653INGENIERÍA DE SISTEMAS    78117653   \n",
       "1  1000018461ESPECIALIZACIÓN EN MEDICINA DEPORTIV...  1000018461   \n",
       "2                   1000019056INGENIERÍA DE SISTEMAS  1000019056   \n",
       "3                     1000020621MEDICINA VETERINARIA  1000020621   \n",
       "4                    1000034769NUTRICIÓN Y DIETÉTICA  1000034769   \n",
       "\n",
       "           Nombre          Apellidos Depto Residencia Municipio Residencia  \\\n",
       "0  LUIS ALEJANDRO       PETIT COLINA        ATLÁNTICO         BARRANQUILLA   \n",
       "1    MARÍA CAMILA     RAMÍREZ RIVERA      BOGOTA D.C.               BOGOTA   \n",
       "2     JUAN FELIPE  RODRIGUEZ ZAMUDIO      BOGOTA D.C.               BOGOTA   \n",
       "3    ALIXON NICOL     PEÑUELA GARCIA           TOLIMA               IBAGUE   \n",
       "4   LAURA MARIANA    FONSECA  MORENO        ANTIOQUIA             MEDELLIN   \n",
       "\n",
       "  Estado Civil                                            Estrato Fecha Nac.  \\\n",
       "0         OTRO  Estrato 3                                     ... 2002-08-14   \n",
       "1      SOLTERO  Estrato 3                                     ... 2001-02-16   \n",
       "2      SOLTERO  Estrato 3                                     ... 2002-02-09   \n",
       "3      SOLTERO  Estrato 2                                     ... 2002-11-04   \n",
       "4      SOLTERO  Estrato 3                                     ... 2002-02-25   \n",
       "\n",
       "      Género  ... Id Oferta Semestre.1 fecha_proceso  contingencia  \\\n",
       "0  Masculino  ...    321565        9.0    04/06/2025            NO   \n",
       "1   Femenino  ...    321671        1.0    04/06/2025            NO   \n",
       "2  Masculino  ...    310268        5.0    04/06/2025            NO   \n",
       "3   Femenino  ...    319117        7.0    04/06/2025            NO   \n",
       "4   Femenino  ...    319022        6.0    04/06/2025            NO   \n",
       "\n",
       "  Modalidad_real estado         estado2 estado3 plan_movilidad  Edad  \n",
       "0      Distancia    NaN  LUIS ALEJANDRO     NaN            NaN  22.0  \n",
       "1      Combinada    NaN             NaN     NaN            NaN  24.0  \n",
       "2        Virtual    NaN     JUAN FELIPE     NaN            NaN  23.0  \n",
       "3     Presencial    NaN    ALIXON NICOL     NaN            NaN  22.0  \n",
       "4     Presencial    NaN   LAURA MARIANA     NaN            NaN  23.0  \n",
       "\n",
       "[5 rows x 41 columns]"
      ]
     },
     "execution_count": 13,
     "metadata": {},
     "output_type": "execute_result"
    }
   ],
   "source": [
    "data.head()"
   ]
  },
  {
   "cell_type": "code",
   "execution_count": 14,
   "metadata": {},
   "outputs": [
    {
     "data": {
      "text/plain": [
       "(17721, 42)"
      ]
     },
     "execution_count": 14,
     "metadata": {},
     "output_type": "execute_result"
    }
   ],
   "source": [
    "# Asignar valores a la columna 'NIVEL' basado en las condiciones dadas usando el nombre correcto de la columna\n",
    "data.loc[data['Cód. Programa'].str.startswith('ES'), 'NIVEL'] = 'POSGRADO'\n",
    "data.loc[data['Cód. Programa'].str.startswith(('PR', 'TP', 'TC')), 'NIVEL'] = 'PREGRADO'\n",
    "\n",
    "# Eliminar registros donde \"Nivel Oferta \" empiece con un número entero\n",
    "data = data[~data['Cód. Programa'].str.match(r'^\\d')]\n",
    "\n",
    "# Mostrar las primeras filas para verificar los cambios\n",
    "data[['Cód. Programa', 'NIVEL']].head()\n",
    "data.shape"
   ]
  },
  {
   "cell_type": "code",
   "execution_count": 15,
   "metadata": {},
   "outputs": [],
   "source": [
    "\n",
    "# Reemplazar los valores en la columna 'Matricula' según las especificaciones dadas\n",
    "data['Matricula'] = data['Matricula'].replace({\n",
    "    'Pagado': 'Matriculado',\n",
    "    'Pendiente de pago': 'Prematriculado'\n",
    "})\n",
    "\n",
    "#Cambio de etiquetas de facultad ---> de FACULTAD a F.\n",
    "\n",
    "data['Facultad'] = data['Facultad'].str.replace('FACULTAD', 'F.')\n",
    "\n",
    "#Selección y orden de columnas deseadas\n",
    "columnas_deseadas = [\n",
    "    'CIF',\n",
    "    'Nombre',\n",
    "    'Apellidos',\n",
    "    'Depto Residencia',\n",
    "    'Municipio Residencia',\n",
    "    'Estado Civil',\n",
    "    'Estrato',\n",
    "    'Género',\n",
    "    'Programa',\n",
    "    'NIVEL',\n",
    "    'Facultad',\n",
    "    'Estado Adm.',\n",
    "    'Sucursal',\n",
    "    'Modalidad',\n",
    "    'Tipo de Distancia',\n",
    "    'Cód. Programa',\n",
    "    'Materia',\n",
    "    'Matricula',\n",
    "    'Semestre',\n",
    "    'Tipo Estudiante',\n",
    "    'fecha_proceso',\n",
    "    'Sucursal Oferta',\n",
    "    'Edad'\n",
    "]\n",
    "\n",
    "data = data[columnas_deseadas]\n"
   ]
  },
  {
   "cell_type": "code",
   "execution_count": 16,
   "metadata": {},
   "outputs": [
    {
     "name": "stdout",
     "output_type": "stream",
     "text": [
      "El archivo se guardó en: z:\\Gobierno de datos\\BI\\TABLERO POBLACIÓN\\matriculas 06-05-2024-2.xlsx\n"
     ]
    }
   ],
   "source": [
    "data.to_excel('matriculas 06-05-2024-2.xlsx', index=False)\n",
    "\n",
    "# Obtener la ruta completa del archivo\n",
    "ruta_completa = os.path.abspath('matriculas 06-05-2024-2.xlsx')\n",
    "print(f\"El archivo se guardó en: {ruta_completa}\")\n",
    "\n",
    "#data.to_csv('BASE15-2', encoding='utf-8-sig' , sep=';' , index=False)\n",
    "\n",
    "#Sedes.to_csv('SEDES BASE', encoding='latin-1' , index=False)\n",
    "\n",
    "\n",
    "# Lista de nombres para los archivos CSV\n",
    "#nombres_archivos = ['Data población estudiantes.csv', 'Sedes.csv']\n",
    "\n",
    "# Lista de DataFrames\n",
    "#ataframes = [data, Sedes]\n",
    "\n",
    "# Exportar cada DataFrame a un archivo CSV\n",
    "#\n",
    "# for i, df in enumerate(dataframes):\n",
    "  #  nombre_archivo = nombres_archivos[i]\n",
    "   # df.to_csv(nombre_archivo, index=False)\n",
    "    #print(f\"DataFrame {i+1} exportado a {nombre_archivo}\")"
   ]
  },
  {
   "cell_type": "code",
   "execution_count": 17,
   "metadata": {},
   "outputs": [],
   "source": [
    "# Leer el archivo csv original\n",
    "#df_sedes = pd.read_csv('Sedes.csv')\n",
    "\n",
    "# Codificar en utf-8 y exportar el archivo csv\n",
    "#df_sedes.to_csv('sedes_corregido.csv', sep=';' , encoding='latin-1', index=False)"
   ]
  }
 ],
 "metadata": {
  "kernelspec": {
   "display_name": "base",
   "language": "python",
   "name": "python3"
  },
  "language_info": {
   "codemirror_mode": {
    "name": "ipython",
    "version": 3
   },
   "file_extension": ".py",
   "mimetype": "text/x-python",
   "name": "python",
   "nbconvert_exporter": "python",
   "pygments_lexer": "ipython3",
   "version": "3.9.13"
  },
  "orig_nbformat": 4,
  "vscode": {
   "interpreter": {
    "hash": "a329eb1fe8be3c8c024bad19fb7b6c5aaaf2647481fc99e917996c1cd5171ad7"
   }
  }
 },
 "nbformat": 4,
 "nbformat_minor": 2
}
